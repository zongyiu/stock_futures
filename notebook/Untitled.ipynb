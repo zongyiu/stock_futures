{
 "cells": [
  {
   "cell_type": "code",
   "execution_count": 8,
   "id": "7da69329-ef66-4f82-9350-11d33fc3dae5",
   "metadata": {},
   "outputs": [],
   "source": [
    "import sys\n",
    "import pandas as pd\n",
    "import sqlite3\n",
    "sys.path.append(\"..\")\n",
    "from source import dbread as db\n",
    "from source import utils\n",
    "utils.set_default_path()\n",
    "pd.set_option('display.max_rows', 10)\n",
    "pd.set_option('display.max_columns', None)\n",
    "pd.set_option('display.width', 1000)"
   ]
  },
  {
   "cell_type": "markdown",
   "id": "55ca0319",
   "metadata": {},
   "source": [
    "### Read the data from ./db/future_kbars.\n",
    "if there is not db file, please ask me by email to get the link"
   ]
  },
  {
   "cell_type": "code",
   "execution_count": 9,
   "id": "946811fd-e6bb-4876-ad4c-9160a88d102d",
   "metadata": {},
   "outputs": [
    {
     "name": "stdout",
     "output_type": "stream",
     "text": [
      "First day of the database is: 2021-01-04\n",
      "Latest day of the database is: 2024-10-30\n"
     ]
    }
   ],
   "source": [
    "print(f\"First day of the database is: {db.get_first_day()}\")\n",
    "print(f\"Latest day of the database is: {db.get_latest_day()}\")"
   ]
  },
  {
   "cell_type": "markdown",
   "id": "86200b2c",
   "metadata": {},
   "source": [
    "### In the range of data, you can get any date of future data "
   ]
  },
  {
   "cell_type": "code",
   "execution_count": 13,
   "id": "28c471bf-30c4-4bc4-b746-455ea3fa541a",
   "metadata": {},
   "outputs": [
    {
     "name": "stdout",
     "output_type": "stream",
     "text": [
      "The type of output is: <class 'pandas.core.frame.DataFrame'>\n",
      "The shape of the output is: (1138, 8)\n",
      "                    ts        date     Open     High      Low    Close  Volume      Amount\n",
      "0  2024-10-25 08:46:00  2024-10-25  23270.0  23306.0  23261.0  23305.0     724  16857488.0\n",
      "1  2024-10-25 08:47:00  2024-10-25  23305.0  23305.0  23253.0  23277.0     760  17696457.0\n",
      "2  2024-10-25 08:48:00  2024-10-25  23277.0  23277.0  23256.0  23258.0     519  12074280.0\n",
      "3  2024-10-25 08:49:00  2024-10-25  23262.0  23264.0  23252.0  23252.0     222   5162958.0\n",
      "4  2024-10-25 08:50:00  2024-10-25  23253.0  23268.0  23253.0  23263.0      77   1791148.0\n",
      "5  2024-10-25 08:51:00  2024-10-25  23262.0  23263.0  23256.0  23262.0      84   1953753.0\n",
      "6  2024-10-25 08:52:00  2024-10-25  23263.0  23267.0  23260.0  23267.0      70   1628432.0\n",
      "7  2024-10-25 08:53:00  2024-10-25  23268.0  23275.0  23264.0  23269.0     119   2769102.0\n",
      "8  2024-10-25 08:54:00  2024-10-25  23271.0  23273.0  23258.0  23259.0     112   2605590.0\n",
      "9  2024-10-25 08:55:00  2024-10-25  23259.0  23271.0  23256.0  23269.0     113   2628595.0\n"
     ]
    }
   ],
   "source": [
    "df = db.get_daily_data(\"2024-10-25\")\n",
    "\n",
    "print(f\"The type of output is: {type(df)}\")\n",
    "print(f\"The shape of the output is: {df.shape}\")\n",
    "print(df.head(10))"
   ]
  },
  {
   "cell_type": "markdown",
   "id": "c0b51597",
   "metadata": {},
   "source": [
    "#### The explain of dataframe\n",
    "- ts : 一分K(每分鐘統計一次)\n",
    "- data : 每日的期貨資料是從 早上08:45~13:45，晚上15:00~隔日05:00\n",
    "         舉例來說 10-25 會有 10-26 00:00 ~ 05:00 的資料\n",
    "- Open : 本分鐘第一筆交易的值\n",
    "- High : 本分鐘的最高值 \n",
    "- Low : 本分鐘的最低值\n",
    "- Close : 本分鐘最後一筆交易的值\n",
    "- Volume : 本分鐘的交易量 \n",
    "- Amount : 本分鐘的交易金額 \n",
    "\n",
    "#### 五筆一分K可以組合成一筆五分K \n",
    "常見的分K \n",
    "- 5分K\n",
    "- 10分K\n",
    "- 30分K\n",
    "- 60分K"
   ]
  },
  {
   "cell_type": "code",
   "execution_count": null,
   "id": "22fd3a8e-1af2-4c15-be41-29242d6a72cb",
   "metadata": {},
   "outputs": [
    {
     "name": "stdout",
     "output_type": "stream",
     "text": [
      "The shape of the output is: (4548, 8)\n",
      "                    ts        date     Open     High      Low    Close  Volume      Amount\n",
      "0  2024-10-22 08:46:00  2024-10-22  23560.0  23563.0  23512.0  23535.0    1650  38836945.0\n",
      "1  2024-10-22 08:47:00  2024-10-22  23535.0  23535.0  23517.0  23524.0     451  10609509.0\n",
      "2  2024-10-22 08:48:00  2024-10-22  23524.0  23552.0  23524.0  23543.0     374   8804479.0\n",
      "3  2024-10-22 08:49:00  2024-10-22  23543.0  23550.0  23531.0  23532.0     207   4872709.0\n",
      "4  2024-10-22 08:50:00  2024-10-22  23532.0  23555.0  23530.0  23552.0     298   7017058.0\n",
      "5  2024-10-22 08:51:00  2024-10-22  23550.0  23555.0  23540.0  23540.0     234   5509745.0\n",
      "6  2024-10-22 08:52:00  2024-10-22  23539.0  23550.0  23534.0  23546.0     201   4732093.0\n",
      "7  2024-10-22 08:53:00  2024-10-22  23546.0  23547.0  23530.0  23537.0     154   3624932.0\n",
      "8  2024-10-22 08:54:00  2024-10-22  23536.0  23539.0  23518.0  23520.0     361   8492877.0\n",
      "9  2024-10-22 08:55:00  2024-10-22  23519.0  23526.0  23516.0  23520.0     217   5104092.0\n"
     ]
    }
   ],
   "source": [
    "# 需要跨日的資料則需要range\n",
    "df = db.get_daily_data_range(\"2024-10-22\", \"2024-10-25\")\n",
    "print(f\"The shape of the output is: {df.shape}\")\n",
    "print(df.head(10))   "
   ]
  },
  {
   "cell_type": "code",
   "execution_count": 17,
   "id": "2e1615ae-7ac3-4ea4-83c1-59e3da7ea005",
   "metadata": {},
   "outputs": [
    {
     "name": "stdout",
     "output_type": "stream",
     "text": [
      "The shape of the output is: (4548, 8)\n",
      "                    ts        date     Open     High      Low    Close  Volume      Amount\n",
      "0  2024-10-22 08:46:00  2024-10-22  23560.0  23563.0  23512.0  23535.0    1650  38836945.0\n",
      "1  2024-10-22 08:47:00  2024-10-22  23535.0  23535.0  23517.0  23524.0     451  10609509.0\n",
      "2  2024-10-22 08:48:00  2024-10-22  23524.0  23552.0  23524.0  23543.0     374   8804479.0\n",
      "3  2024-10-22 08:49:00  2024-10-22  23543.0  23550.0  23531.0  23532.0     207   4872709.0\n",
      "4  2024-10-22 08:50:00  2024-10-22  23532.0  23555.0  23530.0  23552.0     298   7017058.0\n",
      "5  2024-10-22 08:51:00  2024-10-22  23550.0  23555.0  23540.0  23540.0     234   5509745.0\n",
      "6  2024-10-22 08:52:00  2024-10-22  23539.0  23550.0  23534.0  23546.0     201   4732093.0\n",
      "7  2024-10-22 08:53:00  2024-10-22  23546.0  23547.0  23530.0  23537.0     154   3624932.0\n",
      "8  2024-10-22 08:54:00  2024-10-22  23536.0  23539.0  23518.0  23520.0     361   8492877.0\n",
      "9  2024-10-22 08:55:00  2024-10-22  23519.0  23526.0  23516.0  23520.0     217   5104092.0\n"
     ]
    }
   ],
   "source": [
    "# 因為有些日期是假日，所以如果用傳統的方式統計N天會有問題，不足N天的問題\n",
    "db.get_previous_n_data_range(\"2024-10-25\", 10)\n",
    "print(f\"The shape of the output is: {df.shape}\")\n",
    "print(df.head(10))"
   ]
  },
  {
   "cell_type": "code",
   "execution_count": null,
   "id": "9154d11b-7c6f-4673-ab2f-6fce433bd105",
   "metadata": {},
   "outputs": [],
   "source": [
    "\n"
   ]
  }
 ],
 "metadata": {
  "kernelspec": {
   "display_name": "Python 3 (ipykernel)",
   "language": "python",
   "name": "python3"
  },
  "language_info": {
   "codemirror_mode": {
    "name": "ipython",
    "version": 3
   },
   "file_extension": ".py",
   "mimetype": "text/x-python",
   "name": "python",
   "nbconvert_exporter": "python",
   "pygments_lexer": "ipython3",
   "version": "3.8.20"
  }
 },
 "nbformat": 4,
 "nbformat_minor": 5
}
